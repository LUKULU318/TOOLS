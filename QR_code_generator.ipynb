{
 "cells": [
  {
   "cell_type": "code",
   "execution_count": 1,
   "id": "ce5b3048-9be1-4f6f-95a6-4013ff468001",
   "metadata": {},
   "outputs": [
    {
     "name": "stdout",
     "output_type": "stream",
     "text": [
      "QR code generated and saved as example_qr.png\n"
     ]
    }
   ],
   "source": [
    "import qrcode\n",
    "\n",
    "# Function to generate a QR code\n",
    "def generate_qr(data, file_name='qrcode.png'):\n",
    "    # Create a QR code instance\n",
    "    qr = qrcode.QRCode(\n",
    "        version=1,  # controls the size of the QR code\n",
    "        error_correction=qrcode.constants.ERROR_CORRECT_L,  # error correction level\n",
    "        box_size=10,  # size of each box\n",
    "        border=4,  # thickness of the border\n",
    "    )\n",
    "    \n",
    "    # Add data to the QR code\n",
    "    qr.add_data(data)\n",
    "    qr.make(fit=True)\n",
    "\n",
    "    # Create an image from the QR code instance\n",
    "    img = qr.make_image(fill='black', back_color='white')\n",
    "\n",
    "    # Save the generated QR code as an image file\n",
    "    img.save(file_name)\n",
    "    print(f\"QR code generated and saved as {file_name}\")\n",
    "\n",
    "# Example usage\n",
    "data = \"https://www.example.com\"\n",
    "generate_qr(data, 'example_qr.png')\n"
   ]
  },
  {
   "cell_type": "code",
   "execution_count": null,
   "id": "6c491187-9860-4430-9641-316802cc4157",
   "metadata": {},
   "outputs": [],
   "source": []
  }
 ],
 "metadata": {
  "kernelspec": {
   "display_name": "Python 3 (ipykernel)",
   "language": "python",
   "name": "python3"
  },
  "language_info": {
   "codemirror_mode": {
    "name": "ipython",
    "version": 3
   },
   "file_extension": ".py",
   "mimetype": "text/x-python",
   "name": "python",
   "nbconvert_exporter": "python",
   "pygments_lexer": "ipython3",
   "version": "3.11.7"
  }
 },
 "nbformat": 4,
 "nbformat_minor": 5
}
